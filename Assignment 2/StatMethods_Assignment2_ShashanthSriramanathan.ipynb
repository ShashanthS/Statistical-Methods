{
 "cells": [
  {
   "cell_type": "code",
   "execution_count": 6,
   "id": "ec911a89-cbc5-45dc-b04a-a3ae02f304e9",
   "metadata": {},
   "outputs": [],
   "source": [
    "import numpy as np\n",
    "import scipy.stats as sts\n",
    "import pandas as pd\n",
    "import matplotlib.pyplot as plt\n",
    "from astropy.io import fits"
   ]
  },
  {
   "cell_type": "markdown",
   "id": "4498dc30-ad67-4c76-85f9-9a28696bd0a7",
   "metadata": {},
   "source": [
    "<h1>Set Up</h1>\n",
    "Loading the star data, grouping them by cluster names. <br>\n",
    "<i>Code provided in the assignment 1 handout.</i>"
   ]
  },
  {
   "cell_type": "code",
   "execution_count": 7,
   "id": "4667c2e5-07ce-4d3b-8673-a3326dfcf5b4",
   "metadata": {},
   "outputs": [
    {
     "name": "stdout",
     "output_type": "stream",
     "text": [
      "Filename: ../Data/gaiadr3_cluster_stars.fits\n",
      "No.    Name      Ver    Type      Cards   Dimensions   Format\n",
      "  0  PRIMARY       1 PrimaryHDU      93   ()      \n",
      "  1  members.dat    1 TableHDU       331   1291929R x 56C   [A20, I4, I19, I1, F10.8, F12.8, F10.8, F12.8, F10.8, F12.8, E11.4, E11.4, F10.8, E11.4, F10.8, E11.4, F10.8, F11.8, F11.8, E11.4, E11.4, E11.4, E11.4, E11.4, E11.4, I2, F12.8, F10.7, F11.8, F10.8, F19.8, F16.8, F18.8, F17.8, F18.8, F17.8, F10.7, F10.7, F10.7, E11.4, E11.4, E11.4, E9.3, F12.8, F4.1, F6.1, F5.1, F11.7, F11.8, F6.1, F12.7, F13.8, F5.1, A13, I1, I1]   \n"
     ]
    }
   ],
   "source": [
    "dr3stars = fits.open('../Data/gaiadr3_cluster_stars.fits')\n",
    "dr3stars.info()\n",
    "stars = pd.DataFrame(dr3stars[1].data)"
   ]
  },
  {
   "cell_type": "code",
   "execution_count": 8,
   "id": "afbbe9ea-f268-401c-929a-3ebcdd95fd9e",
   "metadata": {},
   "outputs": [],
   "source": [
    "stars['Name'] = stars['Name'].str.strip()\n",
    "clcounts = stars.groupby(['Name']).size().reset_index(name='count')"
   ]
  },
  {
   "cell_type": "code",
   "execution_count": 13,
   "id": "9cd1b0b7-cbe0-4426-a88d-74e8e9424f3f",
   "metadata": {},
   "outputs": [
    {
     "data": {
      "text/plain": [
       "(                 Name   ID       GaiaDR3      inrt      Prob     RAdeg  \\\n",
       " 0            1636-283  0.0  2.220145e+13  0.182574  0.065057  0.038488   \n",
       " 1           ADS_16795  0.0  4.858267e+15  0.000000  0.000145  5.028249   \n",
       " 2     AH03_J0748+26.9  0.0  6.624910e+12  0.000000  0.070829  0.029759   \n",
       " 3            ASCC_100  0.0  1.525021e+16  0.150736  0.063169  0.848365   \n",
       " 4            ASCC_101  0.0  1.174216e+16  0.081923  0.064519  0.519560   \n",
       " ...               ...  ...           ...       ...       ...       ...   \n",
       " 7162      vdBergh_152  0.0  3.002505e+15  0.000000  0.023911  0.863601   \n",
       " 7163       vdBergh_80  0.0  1.010948e+14  0.000000  0.067777  0.336260   \n",
       " 7164       vdBergh_83  0.0  1.092203e+14  0.205049  0.009608  0.283638   \n",
       " 7165       vdBergh_85  0.0  2.553778e+13  0.000000  0.009834  0.107164   \n",
       " 7166       vdBergh_92  0.0  1.377771e+14  0.000000  0.070523  0.078782   \n",
       " \n",
       "        e_RAdeg     DEdeg   e_DEdeg      GLON  ...       o_RV     o_RVd  \\\n",
       " 0     0.096949  0.032713  0.062856  0.020877  ...   3.501067  2.227312   \n",
       " 1     0.140451  2.071391  0.137851  3.132241  ...   7.382742  2.493895   \n",
       " 2     0.012022  0.034522  0.015356  0.036246  ...   0.000000  0.000000   \n",
       " 3     0.049416  0.904561  0.060454  1.041336  ...  10.738129  3.525028   \n",
       " 4     0.070437  0.886064  0.082896  0.916570  ...   9.802364  3.072260   \n",
       " ...        ...       ...       ...       ...  ...        ...       ...   \n",
       " 7162  0.037208  0.201857  0.036552  0.256192  ...   7.242697  2.031420   \n",
       " 7163  0.076537  0.260737  0.081163  0.209595  ...   5.470970  1.181714   \n",
       " 7164  0.053010  0.200000  0.068002  0.190117  ...  10.243057  2.643019   \n",
       " 7165  0.096177  0.077127  0.094265  0.089229  ...   1.780130  0.482667   \n",
       " 7166  0.057683  0.090297  0.062507  0.085014  ...   2.797119  0.653801   \n",
       " \n",
       "        GRVSmag  e_GRVSmag  o_GRVSmag     Vbroad   e_Vbroad  o_Vbroad  \\\n",
       " 0     4.302297   0.025773   1.568732   0.000000   0.000000  0.000000   \n",
       " 1     4.749076   0.026929   5.176283  12.748943   3.065910  2.885413   \n",
       " 2     0.000000   0.000000   0.000000   0.000000   0.000000  0.000000   \n",
       " 3     5.892587   0.023793   7.916515  15.541378   9.530732  3.929341   \n",
       " 4     5.622474   0.022333   7.401356  41.660541   8.063154  4.920085   \n",
       " ...        ...        ...        ...        ...        ...       ...   \n",
       " 7162  6.184117   0.042000   6.113373  45.387187   6.518211  2.727636   \n",
       " 7163  4.561093   0.036048   4.838364   3.453527   9.388914  0.725866   \n",
       " 7164  4.442410   0.022008   8.275102  23.859959  12.626180  2.451732   \n",
       " 7165  3.146877   0.034966   1.619479   0.000000   0.000000  0.000000   \n",
       " 7166  2.996209   0.024590   2.390172   5.198628   3.530879  0.543305   \n",
       " \n",
       "            NSS       RVS  \n",
       " 0     0.000000  0.000000  \n",
       " 1     0.000000  0.000000  \n",
       " 2     0.000000  0.000000  \n",
       " 3     0.000000  0.000000  \n",
       " 4     0.242051  0.180693  \n",
       " ...        ...       ...  \n",
       " 7162  0.200000  0.200000  \n",
       " 7163  0.000000  0.177642  \n",
       " 7164  0.232099  0.205049  \n",
       " 7165  0.000000  0.000000  \n",
       " 7166  0.000000  0.077615  \n",
       " \n",
       " [7167 rows x 55 columns],\n",
       "                  Name  n_star\n",
       " 0            1636-283      30\n",
       " 1           ADS_16795      41\n",
       " 2     AH03_J0748+26.9      28\n",
       " 3            ASCC_100      87\n",
       " 4            ASCC_101     149\n",
       " ...               ...     ...\n",
       " 7162      vdBergh_152      25\n",
       " 7163       vdBergh_80      93\n",
       " 7164       vdBergh_83      92\n",
       " 7165       vdBergh_85     105\n",
       " 7166       vdBergh_92     166\n",
       " \n",
       " [7167 rows x 2 columns])"
      ]
     },
     "execution_count": 13,
     "metadata": {},
     "output_type": "execute_result"
    }
   ],
   "source": [
    "def reduce_data(stars):\n",
    "    stars_hiprob = stars[stars.Prob > 0.8]\n",
    "    clusters_hiprob = stars_hiprob.groupby(['Name']).size().reset_index(name='n_star')\n",
    "    clusters_sd_hiprob = stars_hiprob.groupby(['Name']).std(numeric_only=True).reset_index()\n",
    "    clusters_mean_hiprob = stars_hiprob.groupby(['Name']).mean(numeric_only=True).reset_index()\n",
    "\n",
    "    clusters_hiprob['sd_RAdeg'] = clusters_sd_hiprob['RAdeg']\n",
    "    clusters_hiprob['sd_DEdeg'] = clusters_sd_hiprob['DEdeg']\n",
    "    # print(clusters_sd_hiprob)\n",
    "    return clusters_sd_hiprob\n",
    "\n",
    "reduce_data(stars)"
   ]
  },
  {
   "cell_type": "code",
   "execution_count": null,
   "id": "061c0715-84a7-4d2c-8661-2cca4d6943a8",
   "metadata": {},
   "outputs": [],
   "source": []
  }
 ],
 "metadata": {
  "kernelspec": {
   "display_name": "Python 3 (ipykernel)",
   "language": "python",
   "name": "python3"
  },
  "language_info": {
   "codemirror_mode": {
    "name": "ipython",
    "version": 3
   },
   "file_extension": ".py",
   "mimetype": "text/x-python",
   "name": "python",
   "nbconvert_exporter": "python",
   "pygments_lexer": "ipython3",
   "version": "3.11.4"
  }
 },
 "nbformat": 4,
 "nbformat_minor": 5
}
